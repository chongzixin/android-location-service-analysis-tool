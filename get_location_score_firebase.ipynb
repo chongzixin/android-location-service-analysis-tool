{
 "cells": [
  {
   "cell_type": "code",
   "execution_count": 1,
   "metadata": {},
   "outputs": [],
   "source": [
    "# THIS FILE ANALYSES THE DATA SENT TO FIREBASE"
   ]
  },
  {
   "cell_type": "code",
   "execution_count": 3,
   "metadata": {},
   "outputs": [],
   "source": [
    "import pandas as pd\n",
    "import matplotlib.pyplot as plt\n",
    "import json"
   ]
  },
  {
   "cell_type": "code",
   "execution_count": 7,
   "metadata": {
    "tags": []
   },
   "outputs": [
    {
     "output_type": "stream",
     "name": "stdout",
     "text": [
      "Printing scores for HUAWEI-PRA-LX2 from 2020-11-16 16:12:51.343000 to 2020-11-17 06:13:22.476000\n1 min intervals: 99.64% missing 3 intervals\n5 min intervals: 100.00% missing 0 intervals\n\n"
     ]
    }
   ],
   "source": [
    "with open(\"data/20201117-pra-lx2-firebase-export.json\") as f:\n",
    "    d = json.load(f)\n",
    "d = d.get('location_reports')\n",
    "\n",
    "# Iterate through the values for each device\n",
    "for device in d.keys():\n",
    "    # Get all messages and timestamps\n",
    "    data = pd.DataFrame.from_records(list(d.get(device).values()))\n",
    "\n",
    "    # take only the first 24 characters, which is the timestamp portion \n",
    "    # e.g. 22 Sep 2020 16:15:54:625 in 22 Sep 2020 16:17:12:674: (1.3210017, 103.8602953)\n",
    "    data[\"timestamp\"] = data[\"message\"].str[0:24].str.strip()\n",
    "    data[\"timestamp\"] = pd.to_datetime(data[\"timestamp\"], format=\"%d %b %Y %H:%M:%S:%f\")\n",
    "\n",
    "    # data = data[['message','timestamp','server_timestamp']]\n",
    "    data = data[['message','timestamp']]\n",
    "    \n",
    "    group1min = data.groupby(pd.Grouper(key=\"timestamp\",freq=\"1min\")).count()\n",
    "    group5min = data.groupby(pd.Grouper(key=\"timestamp\",freq=\"5min\")).count()\n",
    "\n",
    "    # rename the column name to count\n",
    "    group1min.rename( columns={'message': \"count\"}, inplace=True)\n",
    "    group5min.rename( columns={'message': \"count\"}, inplace=True)\n",
    "    \n",
    "    # calculate results for 1 minute intervals\n",
    "    g1_total_rows = len(group1min)\n",
    "    g1_misses = group1min[\"count\"].value_counts().get(0,0) # get value for key 0, if it doesnt exist we return 0 which  means \n",
    "    g1_score = (g1_total_rows - g1_misses)/g1_total_rows\n",
    "    group1min.loc[group1min[\"count\"] == 0]\n",
    "    \n",
    "    # calculate results for 5 minute intervals\n",
    "    g5_total_rows = len(group5min)\n",
    "    g5_misses = group5min[\"count\"].value_counts().get(0, 0) # get value for key 0, if it doesnt exist we return 0 which means no misses.\n",
    "    g5_score = (g5_total_rows - g5_misses)/g5_total_rows\n",
    "    group5min.loc[group5min[\"count\"] == 0]\n",
    "\n",
    "    print(\"Printing scores for\", device, \"from\", data[\"timestamp\"].iloc[0] , \"to\" , data[\"timestamp\"].iloc[-1])\n",
    "    print(\"1 min intervals:\", \"{0:.2%}\".format(g1_score) , \"missing\" , g1_misses , \"intervals\")\n",
    "    print(\"5 min intervals:\", \"{0:.2%}\".format(g5_score) , \"missing\" , g5_misses , \"intervals\")\n",
    "    print()\n",
    "\n",
    "    # return only the rows with alarmreceiver\n",
    "    # data[\"method\"] = data[data[0].str.contains(\"(alarmreceiver)\", na=False)]\n",
    "    # data = data[data[\"method\"].notnull()]"
   ]
  },
  {
   "cell_type": "code",
   "execution_count": null,
   "metadata": {},
   "outputs": [],
   "source": []
  }
 ],
 "metadata": {
  "kernelspec": {
   "name": "python3",
   "display_name": "Python 3.9.0 64-bit",
   "metadata": {
    "interpreter": {
     "hash": "ac2eaa0ea0ebeafcc7822e65e46aa9d4f966f30b695406963e145ea4a91cd4fc"
    }
   }
  },
  "language_info": {
   "codemirror_mode": {
    "name": "ipython",
    "version": 3
   },
   "file_extension": ".py",
   "mimetype": "text/x-python",
   "name": "python",
   "nbconvert_exporter": "python",
   "pygments_lexer": "ipython3",
   "version": "3.9.0-final"
  }
 },
 "nbformat": 4,
 "nbformat_minor": 2
}
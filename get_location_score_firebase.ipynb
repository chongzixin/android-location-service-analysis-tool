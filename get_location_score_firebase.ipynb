{
 "cells": [
  {
   "cell_type": "code",
   "execution_count": 1,
   "metadata": {},
   "outputs": [],
   "source": [
    "# THIS FILE ANALYSES THE DATA SENT TO FIREBASE"
   ]
  },
  {
   "cell_type": "code",
   "execution_count": 1,
   "metadata": {},
   "outputs": [],
   "source": [
    "import pandas as pd\n",
    "import matplotlib.pyplot as plt\n",
    "import json"
   ]
  },
  {
   "cell_type": "code",
   "execution_count": 70,
   "metadata": {
    "tags": []
   },
   "outputs": [
    {
     "output_type": "stream",
     "name": "stdout",
     "text": [
      "Printing scores for Google-Pixel 2 XL from 2020-10-04 23:25:17.047000 to 2020-10-06 02:55:40.701000\n1 min intervals: 98.49% missing 25 intervals\n5 min intervals: 100.00% missing 0 intervals\n\nPrinting scores for HUAWEI-MHA-L29 from 2020-10-04 23:23:20.725000 to 2020-10-06 08:12:46.841000\n1 min intervals: 99.59% missing 8 intervals\n5 min intervals: 99.75% missing 1 intervals\n\nPrinting scores for Samsung-SM-J730GM from 2020-10-06 21:49:46.794000 to 2020-10-07 19:50:36.590000\n1 min intervals: 99.92% missing 1 intervals\n5 min intervals: 100.00% missing 0 intervals\n\nPrinting scores for Vivo 1820 from 2020-10-06 21:54:02.547000 to 2020-10-07 19:48:08.597000\n1 min intervals: 39.85% missing 791 intervals\n5 min intervals: 100.00% missing 0 intervals\n\nPrinting scores for Xiaomi-Redmi Note 3 from 2020-10-04 23:28:18.199000 to 2020-10-07 19:50:48.382000\n1 min intervals: 49.57% missing 2069 intervals\n5 min intervals: 50.12% missing 410 intervals\n\n"
     ]
    }
   ],
   "source": [
    "with open(\"data/20201007-firebase-export.json\") as f:\n",
    "    d = json.load(f)\n",
    "d = d.get('location_reports')\n",
    "\n",
    "# Iterate through the values for each device\n",
    "for device in d.keys():\n",
    "    # Get all messages and timestamps\n",
    "    data = pd.DataFrame.from_records(list(d.get(device).values()))\n",
    "\n",
    "    # take only the first 24 characters, which is the timestamp portion \n",
    "    # e.g. 22 Sep 2020 16:15:54:625 in 22 Sep 2020 16:17:12:674: (1.3210017, 103.8602953)\n",
    "    data[\"timestamp\"] = data[\"message\"].str[0:24].str.strip()\n",
    "    data[\"timestamp\"] = pd.to_datetime(data[\"timestamp\"], format=\"%d %b %Y %H:%M:%S:%f\")\n",
    "\n",
    "    # data = data[['message','timestamp','server_timestamp']]\n",
    "    data = data[['message','timestamp']]\n",
    "    \n",
    "    group1min = data.groupby(pd.Grouper(key=\"timestamp\",freq=\"1min\")).count()\n",
    "    group5min = data.groupby(pd.Grouper(key=\"timestamp\",freq=\"5min\")).count()\n",
    "\n",
    "    # rename the column name to count\n",
    "    group1min.rename( columns={'message': \"count\"}, inplace=True)\n",
    "    group5min.rename( columns={'message': \"count\"}, inplace=True)\n",
    "    \n",
    "    # calculate results for 1 minute intervals\n",
    "    g1_total_rows = len(group1min)\n",
    "    g1_misses = group1min[\"count\"].value_counts().get(0,0) # get value for key 0, if it doesnt exist we return 0 which  means \n",
    "    g1_score = (g1_total_rows - g1_misses)/g1_total_rows\n",
    "    group1min.loc[group1min[\"count\"] == 0]\n",
    "    \n",
    "    # calculate results for 5 minute intervals\n",
    "    g5_total_rows = len(group5min)\n",
    "    g5_misses = group5min[\"count\"].value_counts().get(0, 0) # get value for key 0, if it doesnt exist we return 0 which means no misses.\n",
    "    g5_score = (g5_total_rows - g5_misses)/g5_total_rows\n",
    "    group5min.loc[group5min[\"count\"] == 0]\n",
    "\n",
    "    print(\"Printing scores for\", device, \"from\", data[\"timestamp\"].iloc[0] , \"to\" , data[\"timestamp\"].iloc[-1])\n",
    "    print(\"1 min intervals:\", \"{0:.2%}\".format(g1_score) , \"missing\" , g1_misses , \"intervals\")\n",
    "    print(\"5 min intervals:\", \"{0:.2%}\".format(g5_score) , \"missing\" , g5_misses , \"intervals\")\n",
    "    print()\n",
    "\n",
    "    # return only the rows with alarmreceiver\n",
    "    # data[\"method\"] = data[data[0].str.contains(\"(alarmreceiver)\", na=False)]\n",
    "    # data = data[data[\"method\"].notnull()]"
   ]
  },
  {
   "cell_type": "code",
   "execution_count": null,
   "metadata": {},
   "outputs": [],
   "source": []
  }
 ],
 "metadata": {
  "kernelspec": {
   "display_name": "Python 3.7.6 64-bit",
   "language": "python",
   "name": "python37664bit2d477bd3c8524222ac6dda5bfbaedc31"
  },
  "language_info": {
   "codemirror_mode": {
    "name": "ipython",
    "version": 3
   },
   "file_extension": ".py",
   "mimetype": "text/x-python",
   "name": "python",
   "nbconvert_exporter": "python",
   "pygments_lexer": "ipython3",
   "version": "3.7.6-final"
  }
 },
 "nbformat": 4,
 "nbformat_minor": 2
}
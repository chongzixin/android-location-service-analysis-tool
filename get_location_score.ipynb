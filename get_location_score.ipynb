{
 "cells": [
  {
   "cell_type": "code",
   "execution_count": 22,
   "metadata": {},
   "outputs": [],
   "source": [
    "import pandas as pd\n",
    "import matplotlib.pyplot as plt"
   ]
  },
  {
   "cell_type": "code",
   "execution_count": 23,
   "metadata": {},
   "outputs": [
    {
     "output_type": "execute_result",
     "data": {
      "text/plain": [
       "                           0               timestamp\n",
       "0    2020-11-17 06:13:04.537 2020-11-17 06:13:04.537\n",
       "1    2020-11-17 06:07:04.051 2020-11-17 06:07:04.051\n",
       "2    2020-11-17 06:00:59.837 2020-11-17 06:00:59.837\n",
       "3    2020-11-17 05:55:25.594 2020-11-17 05:55:25.594\n",
       "4    2020-11-17 05:54:58.244 2020-11-17 05:54:58.244\n",
       "..                       ...                     ...\n",
       "153  2020-11-16 17:25:59.148 2020-11-16 17:25:59.148\n",
       "154  2020-11-16 17:21:17.993 2020-11-16 17:21:17.993\n",
       "155  2020-11-16 17:15:25.516 2020-11-16 17:15:25.516\n",
       "156  2020-11-16 17:14:40.798 2020-11-16 17:14:40.798\n",
       "157  2020-11-16 17:05:25.478 2020-11-16 17:05:25.478\n",
       "\n",
       "[158 rows x 2 columns]"
      ],
      "text/html": "<div>\n<style scoped>\n    .dataframe tbody tr th:only-of-type {\n        vertical-align: middle;\n    }\n\n    .dataframe tbody tr th {\n        vertical-align: top;\n    }\n\n    .dataframe thead th {\n        text-align: right;\n    }\n</style>\n<table border=\"1\" class=\"dataframe\">\n  <thead>\n    <tr style=\"text-align: right;\">\n      <th></th>\n      <th>0</th>\n      <th>timestamp</th>\n    </tr>\n  </thead>\n  <tbody>\n    <tr>\n      <th>0</th>\n      <td>2020-11-17 06:13:04.537</td>\n      <td>2020-11-17 06:13:04.537</td>\n    </tr>\n    <tr>\n      <th>1</th>\n      <td>2020-11-17 06:07:04.051</td>\n      <td>2020-11-17 06:07:04.051</td>\n    </tr>\n    <tr>\n      <th>2</th>\n      <td>2020-11-17 06:00:59.837</td>\n      <td>2020-11-17 06:00:59.837</td>\n    </tr>\n    <tr>\n      <th>3</th>\n      <td>2020-11-17 05:55:25.594</td>\n      <td>2020-11-17 05:55:25.594</td>\n    </tr>\n    <tr>\n      <th>4</th>\n      <td>2020-11-17 05:54:58.244</td>\n      <td>2020-11-17 05:54:58.244</td>\n    </tr>\n    <tr>\n      <th>...</th>\n      <td>...</td>\n      <td>...</td>\n    </tr>\n    <tr>\n      <th>153</th>\n      <td>2020-11-16 17:25:59.148</td>\n      <td>2020-11-16 17:25:59.148</td>\n    </tr>\n    <tr>\n      <th>154</th>\n      <td>2020-11-16 17:21:17.993</td>\n      <td>2020-11-16 17:21:17.993</td>\n    </tr>\n    <tr>\n      <th>155</th>\n      <td>2020-11-16 17:15:25.516</td>\n      <td>2020-11-16 17:15:25.516</td>\n    </tr>\n    <tr>\n      <th>156</th>\n      <td>2020-11-16 17:14:40.798</td>\n      <td>2020-11-16 17:14:40.798</td>\n    </tr>\n    <tr>\n      <th>157</th>\n      <td>2020-11-16 17:05:25.478</td>\n      <td>2020-11-16 17:05:25.478</td>\n    </tr>\n  </tbody>\n</table>\n<p>158 rows × 2 columns</p>\n</div>"
     },
     "metadata": {},
     "execution_count": 23
    }
   ],
   "source": [
    "# read and clean data by removing unwanted text and spaces\n",
    "\n",
    "# use a separator that will never appear in the txt file.\n",
    "data = pd.read_csv(\"data/20201117-pra-lx2-timestamp.csv\", header=None, sep=\"~\")\n",
    "\n",
    "# return only the rows with alarmreceiver\n",
    "# data[\"method\"] = data[data[0].str.contains(\"(alarmreceiver)\", na=False)]\n",
    "# data = data[data[\"method\"].notnull()]\n",
    "\n",
    "# take only the first 24 characters, which is the timestamp portion \n",
    "# e.g. 22 Sep 2020 16:15:54:625 in 22 Sep 2020 16:17:12:674: (1.3210017, 103.8602953)\n",
    "data[\"timestamp\"] = data[0].str[0:24].str.strip()\n",
    "data[\"timestamp\"] = pd.to_datetime(data[\"timestamp\"], format=\"%d %b %Y %H:%M:%S:%f\")\n",
    "\n",
    "# below two lines used for Homer exports\n",
    "# data[\"timestamp\"] = data[0].str[0:23].str.strip()\n",
    "# data[\"timestamp\"] = pd.to_datetime(data[\"timestamp\"], format=\"%Y-%m-%d %H:%M:%S.%f\")\n",
    "\n",
    "data"
   ]
  },
  {
   "cell_type": "code",
   "execution_count": 24,
   "metadata": {
    "tags": []
   },
   "outputs": [
    {
     "output_type": "execute_result",
     "data": {
      "text/plain": [
       "3"
      ]
     },
     "metadata": {},
     "execution_count": 24
    }
   ],
   "source": [
    "group1min = data.groupby(pd.Grouper(key=\"timestamp\",freq=\"1min\")).count()\n",
    "group5min = data.groupby(pd.Grouper(key=\"timestamp\",freq=\"5min\")).count()\n",
    "# rename the column name to count\n",
    "group1min.rename( columns={0: \"count\"}, inplace=True)\n",
    "group5min.rename( columns={0: \"count\"}, inplace=True)\n",
    "\n",
    "len(group1min[\"count\"].value_counts())\n",
    "len(group5min[\"count\"].value_counts())"
   ]
  },
  {
   "cell_type": "code",
   "execution_count": 25,
   "metadata": {
    "tags": []
   },
   "outputs": [
    {
     "output_type": "execute_result",
     "data": {
      "text/plain": [
       "                     count\n",
       "timestamp                 \n",
       "2020-11-16 17:06:00      0\n",
       "2020-11-16 17:07:00      0\n",
       "2020-11-16 17:08:00      0\n",
       "2020-11-16 17:09:00      0\n",
       "2020-11-16 17:10:00      0\n",
       "...                    ...\n",
       "2020-11-17 06:08:00      0\n",
       "2020-11-17 06:09:00      0\n",
       "2020-11-17 06:10:00      0\n",
       "2020-11-17 06:11:00      0\n",
       "2020-11-17 06:12:00      0\n",
       "\n",
       "[641 rows x 1 columns]"
      ],
      "text/html": "<div>\n<style scoped>\n    .dataframe tbody tr th:only-of-type {\n        vertical-align: middle;\n    }\n\n    .dataframe tbody tr th {\n        vertical-align: top;\n    }\n\n    .dataframe thead th {\n        text-align: right;\n    }\n</style>\n<table border=\"1\" class=\"dataframe\">\n  <thead>\n    <tr style=\"text-align: right;\">\n      <th></th>\n      <th>count</th>\n    </tr>\n    <tr>\n      <th>timestamp</th>\n      <th></th>\n    </tr>\n  </thead>\n  <tbody>\n    <tr>\n      <th>2020-11-16 17:06:00</th>\n      <td>0</td>\n    </tr>\n    <tr>\n      <th>2020-11-16 17:07:00</th>\n      <td>0</td>\n    </tr>\n    <tr>\n      <th>2020-11-16 17:08:00</th>\n      <td>0</td>\n    </tr>\n    <tr>\n      <th>2020-11-16 17:09:00</th>\n      <td>0</td>\n    </tr>\n    <tr>\n      <th>2020-11-16 17:10:00</th>\n      <td>0</td>\n    </tr>\n    <tr>\n      <th>...</th>\n      <td>...</td>\n    </tr>\n    <tr>\n      <th>2020-11-17 06:08:00</th>\n      <td>0</td>\n    </tr>\n    <tr>\n      <th>2020-11-17 06:09:00</th>\n      <td>0</td>\n    </tr>\n    <tr>\n      <th>2020-11-17 06:10:00</th>\n      <td>0</td>\n    </tr>\n    <tr>\n      <th>2020-11-17 06:11:00</th>\n      <td>0</td>\n    </tr>\n    <tr>\n      <th>2020-11-17 06:12:00</th>\n      <td>0</td>\n    </tr>\n  </tbody>\n</table>\n<p>641 rows × 1 columns</p>\n</div>"
     },
     "metadata": {},
     "execution_count": 25
    }
   ],
   "source": [
    "# calculate results for 1 minute intervals\n",
    "g1_total_rows = len(group1min)\n",
    "g1_misses = group1min[\"count\"].value_counts().get(0,0) # get value for key 0, if it doesnt exist we return 0 which means \n",
    "g1_score = (g1_total_rows - g1_misses)/g1_total_rows\n",
    "# print(g1_score)\n",
    "group1min.loc[group1min[\"count\"] == 0]"
   ]
  },
  {
   "cell_type": "code",
   "execution_count": 26,
   "metadata": {
    "tags": []
   },
   "outputs": [
    {
     "output_type": "execute_result",
     "data": {
      "text/plain": [
       "                     count\n",
       "timestamp                 \n",
       "2020-11-16 18:45:00      0\n",
       "2020-11-16 20:10:00      0\n",
       "2020-11-16 21:55:00      0\n",
       "2020-11-16 23:10:00      0\n",
       "2020-11-16 23:40:00      0\n",
       "2020-11-17 01:35:00      0\n",
       "2020-11-17 02:05:00      0\n",
       "2020-11-17 02:35:00      0\n",
       "2020-11-17 04:30:00      0\n",
       "2020-11-17 05:00:00      0"
      ],
      "text/html": "<div>\n<style scoped>\n    .dataframe tbody tr th:only-of-type {\n        vertical-align: middle;\n    }\n\n    .dataframe tbody tr th {\n        vertical-align: top;\n    }\n\n    .dataframe thead th {\n        text-align: right;\n    }\n</style>\n<table border=\"1\" class=\"dataframe\">\n  <thead>\n    <tr style=\"text-align: right;\">\n      <th></th>\n      <th>count</th>\n    </tr>\n    <tr>\n      <th>timestamp</th>\n      <th></th>\n    </tr>\n  </thead>\n  <tbody>\n    <tr>\n      <th>2020-11-16 18:45:00</th>\n      <td>0</td>\n    </tr>\n    <tr>\n      <th>2020-11-16 20:10:00</th>\n      <td>0</td>\n    </tr>\n    <tr>\n      <th>2020-11-16 21:55:00</th>\n      <td>0</td>\n    </tr>\n    <tr>\n      <th>2020-11-16 23:10:00</th>\n      <td>0</td>\n    </tr>\n    <tr>\n      <th>2020-11-16 23:40:00</th>\n      <td>0</td>\n    </tr>\n    <tr>\n      <th>2020-11-17 01:35:00</th>\n      <td>0</td>\n    </tr>\n    <tr>\n      <th>2020-11-17 02:05:00</th>\n      <td>0</td>\n    </tr>\n    <tr>\n      <th>2020-11-17 02:35:00</th>\n      <td>0</td>\n    </tr>\n    <tr>\n      <th>2020-11-17 04:30:00</th>\n      <td>0</td>\n    </tr>\n    <tr>\n      <th>2020-11-17 05:00:00</th>\n      <td>0</td>\n    </tr>\n  </tbody>\n</table>\n</div>"
     },
     "metadata": {},
     "execution_count": 26
    }
   ],
   "source": [
    "# calculate results for 5 minute intervals\n",
    "g5_total_rows = len(group5min)\n",
    "g5_misses = group5min[\"count\"].value_counts().get(0, 0) # get value for key 0, if it doesnt exist we return 0 which means no misses.\n",
    "g5_score = (g5_total_rows - g5_misses)/g5_total_rows\n",
    "# print(g5_score)\n",
    "group5min.loc[group5min[\"count\"] == 0]"
   ]
  },
  {
   "cell_type": "code",
   "execution_count": 27,
   "metadata": {
    "tags": []
   },
   "outputs": [
    {
     "output_type": "stream",
     "name": "stdout",
     "text": [
      "Looking at data from 2020-11-17 06:13:04.537 to 2020-11-16 17:05:25.478\n5 min intervals: 93.67% missing 10 intervals\n"
     ]
    }
   ],
   "source": [
    "print(\"Looking at data from\", data[0].iloc[0] , \"to\" , data[0].iloc[-1])\n",
    "# print(\"1 min intervals:\", \"{0:.2%}\".format(g1_score) , \"missing\" , g1_misses , \"intervals\")\n",
    "print(\"5 min intervals:\", \"{0:.2%}\".format(g5_score) , \"missing\" , g5_misses , \"intervals\")"
   ]
  }
 ],
 "metadata": {
  "kernelspec": {
   "name": "python3",
   "display_name": "Python 3.9.0 64-bit",
   "metadata": {
    "interpreter": {
     "hash": "ac2eaa0ea0ebeafcc7822e65e46aa9d4f966f30b695406963e145ea4a91cd4fc"
    }
   }
  },
  "language_info": {
   "codemirror_mode": {
    "name": "ipython",
    "version": 3
   },
   "file_extension": ".py",
   "mimetype": "text/x-python",
   "name": "python",
   "nbconvert_exporter": "python",
   "pygments_lexer": "ipython3",
   "version": "3.9.0-final"
  }
 },
 "nbformat": 4,
 "nbformat_minor": 2
}
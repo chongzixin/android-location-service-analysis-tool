{
 "cells": [
  {
   "cell_type": "code",
   "execution_count": 179,
   "metadata": {},
   "outputs": [],
   "source": [
    "import pandas as pd\n",
    "import matplotlib.pyplot as plt"
   ]
  },
  {
   "cell_type": "code",
   "execution_count": 180,
   "metadata": {},
   "outputs": [
    {
     "output_type": "execute_result",
     "data": {
      "text/plain": "                                                     0               timestamp\n0       01 Oct 2020 16:09:24:098 onCreate MainActivity 2020-10-01 16:09:24.098\n1            01 Oct 2020 16:09:24:420 onCreate Service 2020-10-01 16:09:24.420\n2       01 Oct 2020 16:09:48:097 onCreate MainActivity 2020-10-01 16:09:48.097\n3            01 Oct 2020 16:09:48:271 onCreate Service 2020-10-01 16:09:48.271\n4           01 Oct 2020 16:09:54:301 onDestroy Service 2020-10-01 16:09:54.301\n..                                                 ...                     ...\n374  02 Oct 2020 10:52:07:570 (alarmreceiver): (1.3... 2020-10-02 10:52:07.570\n375  02 Oct 2020 10:56:07:635 (alarmreceiver): (1.3... 2020-10-02 10:56:07.635\n376  02 Oct 2020 11:00:07:644 (alarmreceiver): (1.3... 2020-10-02 11:00:07.644\n377  02 Oct 2020 11:03:00:948 (alarmreceiver): (1.3... 2020-10-02 11:03:00.948\n378  02 Oct 2020 11:04:01:014 (alarmreceiver): (1.3... 2020-10-02 11:04:01.014\n\n[379 rows x 2 columns]",
      "text/html": "<div>\n<style scoped>\n    .dataframe tbody tr th:only-of-type {\n        vertical-align: middle;\n    }\n\n    .dataframe tbody tr th {\n        vertical-align: top;\n    }\n\n    .dataframe thead th {\n        text-align: right;\n    }\n</style>\n<table border=\"1\" class=\"dataframe\">\n  <thead>\n    <tr style=\"text-align: right;\">\n      <th></th>\n      <th>0</th>\n      <th>timestamp</th>\n    </tr>\n  </thead>\n  <tbody>\n    <tr>\n      <th>0</th>\n      <td>01 Oct 2020 16:09:24:098 onCreate MainActivity</td>\n      <td>2020-10-01 16:09:24.098</td>\n    </tr>\n    <tr>\n      <th>1</th>\n      <td>01 Oct 2020 16:09:24:420 onCreate Service</td>\n      <td>2020-10-01 16:09:24.420</td>\n    </tr>\n    <tr>\n      <th>2</th>\n      <td>01 Oct 2020 16:09:48:097 onCreate MainActivity</td>\n      <td>2020-10-01 16:09:48.097</td>\n    </tr>\n    <tr>\n      <th>3</th>\n      <td>01 Oct 2020 16:09:48:271 onCreate Service</td>\n      <td>2020-10-01 16:09:48.271</td>\n    </tr>\n    <tr>\n      <th>4</th>\n      <td>01 Oct 2020 16:09:54:301 onDestroy Service</td>\n      <td>2020-10-01 16:09:54.301</td>\n    </tr>\n    <tr>\n      <th>...</th>\n      <td>...</td>\n      <td>...</td>\n    </tr>\n    <tr>\n      <th>374</th>\n      <td>02 Oct 2020 10:52:07:570 (alarmreceiver): (1.3...</td>\n      <td>2020-10-02 10:52:07.570</td>\n    </tr>\n    <tr>\n      <th>375</th>\n      <td>02 Oct 2020 10:56:07:635 (alarmreceiver): (1.3...</td>\n      <td>2020-10-02 10:56:07.635</td>\n    </tr>\n    <tr>\n      <th>376</th>\n      <td>02 Oct 2020 11:00:07:644 (alarmreceiver): (1.3...</td>\n      <td>2020-10-02 11:00:07.644</td>\n    </tr>\n    <tr>\n      <th>377</th>\n      <td>02 Oct 2020 11:03:00:948 (alarmreceiver): (1.3...</td>\n      <td>2020-10-02 11:03:00.948</td>\n    </tr>\n    <tr>\n      <th>378</th>\n      <td>02 Oct 2020 11:04:01:014 (alarmreceiver): (1.3...</td>\n      <td>2020-10-02 11:04:01.014</td>\n    </tr>\n  </tbody>\n</table>\n<p>379 rows × 2 columns</p>\n</div>"
     },
     "metadata": {},
     "execution_count": 180
    }
   ],
   "source": [
    "# read and clean data by removing unwanted text and spaces\n",
    "\n",
    "# use a separator that will never appear in the txt file.\n",
    "data = pd.read_csv(\"data/12_20201001_vivo\", header=None, sep=\"~\")\n",
    "\n",
    "# return only the rows with alarmreceiver\n",
    "# data[\"method\"] = data[data[0].str.contains(\"(alarmreceiver)\", na=False)]\n",
    "# data = data[data[\"method\"].notnull()]\n",
    "\n",
    "# take only the first 24 characters, which is the timestamp portion \n",
    "# e.g. 22 Sep 2020 16:15:54:625 in 22 Sep 2020 16:17:12:674: (1.3210017, 103.8602953)\n",
    "data[\"timestamp\"] = data[0].str[0:24].str.strip()\n",
    "data[\"timestamp\"] = pd.to_datetime(data[\"timestamp\"], format=\"%d %b %Y %H:%M:%S:%f\")\n",
    "\n",
    "data"
   ]
  },
  {
   "cell_type": "code",
   "execution_count": 181,
   "metadata": {
    "tags": []
   },
   "outputs": [
    {
     "output_type": "execute_result",
     "data": {
      "text/plain": "6"
     },
     "metadata": {},
     "execution_count": 181
    }
   ],
   "source": [
    "group1min = data.groupby(pd.Grouper(key=\"timestamp\",freq=\"1min\")).count()\n",
    "group5min = data.groupby(pd.Grouper(key=\"timestamp\",freq=\"5min\")).count()\n",
    "# rename the column name to count\n",
    "group1min.rename( columns={0: \"count\"}, inplace=True)\n",
    "group5min.rename( columns={0: \"count\"}, inplace=True)\n",
    "\n",
    "len(group1min[\"count\"].value_counts())\n",
    "len(group5min[\"count\"].value_counts())"
   ]
  },
  {
   "cell_type": "code",
   "execution_count": 182,
   "metadata": {
    "tags": []
   },
   "outputs": [
    {
     "output_type": "execute_result",
     "data": {
      "text/plain": "                     count\ntimestamp                 \n2020-10-01 16:11:00      0\n2020-10-01 16:12:00      0\n2020-10-01 16:13:00      0\n2020-10-01 16:14:00      0\n2020-10-01 16:16:00      0\n...                    ...\n2020-10-02 10:57:00      0\n2020-10-02 10:58:00      0\n2020-10-02 10:59:00      0\n2020-10-02 11:01:00      0\n2020-10-02 11:02:00      0\n\n[778 rows x 1 columns]",
      "text/html": "<div>\n<style scoped>\n    .dataframe tbody tr th:only-of-type {\n        vertical-align: middle;\n    }\n\n    .dataframe tbody tr th {\n        vertical-align: top;\n    }\n\n    .dataframe thead th {\n        text-align: right;\n    }\n</style>\n<table border=\"1\" class=\"dataframe\">\n  <thead>\n    <tr style=\"text-align: right;\">\n      <th></th>\n      <th>count</th>\n    </tr>\n    <tr>\n      <th>timestamp</th>\n      <th></th>\n    </tr>\n  </thead>\n  <tbody>\n    <tr>\n      <th>2020-10-01 16:11:00</th>\n      <td>0</td>\n    </tr>\n    <tr>\n      <th>2020-10-01 16:12:00</th>\n      <td>0</td>\n    </tr>\n    <tr>\n      <th>2020-10-01 16:13:00</th>\n      <td>0</td>\n    </tr>\n    <tr>\n      <th>2020-10-01 16:14:00</th>\n      <td>0</td>\n    </tr>\n    <tr>\n      <th>2020-10-01 16:16:00</th>\n      <td>0</td>\n    </tr>\n    <tr>\n      <th>...</th>\n      <td>...</td>\n    </tr>\n    <tr>\n      <th>2020-10-02 10:57:00</th>\n      <td>0</td>\n    </tr>\n    <tr>\n      <th>2020-10-02 10:58:00</th>\n      <td>0</td>\n    </tr>\n    <tr>\n      <th>2020-10-02 10:59:00</th>\n      <td>0</td>\n    </tr>\n    <tr>\n      <th>2020-10-02 11:01:00</th>\n      <td>0</td>\n    </tr>\n    <tr>\n      <th>2020-10-02 11:02:00</th>\n      <td>0</td>\n    </tr>\n  </tbody>\n</table>\n<p>778 rows × 1 columns</p>\n</div>"
     },
     "metadata": {},
     "execution_count": 182
    }
   ],
   "source": [
    "# calculate results for 1 minute intervals\n",
    "g1_total_rows = len(group1min)\n",
    "g1_misses = group1min[\"count\"].value_counts().get(0,0) # get value for key 0, if it doesnt exist we return 0 which means \n",
    "g1_score = (g1_total_rows - g1_misses)/g1_total_rows\n",
    "# print(g1_score)\n",
    "group1min.loc[group1min[\"count\"] == 0]"
   ]
  },
  {
   "cell_type": "code",
   "execution_count": 183,
   "metadata": {
    "tags": []
   },
   "outputs": [
    {
     "output_type": "execute_result",
     "data": {
      "text/plain": "Empty DataFrame\nColumns: [count]\nIndex: []",
      "text/html": "<div>\n<style scoped>\n    .dataframe tbody tr th:only-of-type {\n        vertical-align: middle;\n    }\n\n    .dataframe tbody tr th {\n        vertical-align: top;\n    }\n\n    .dataframe thead th {\n        text-align: right;\n    }\n</style>\n<table border=\"1\" class=\"dataframe\">\n  <thead>\n    <tr style=\"text-align: right;\">\n      <th></th>\n      <th>count</th>\n    </tr>\n    <tr>\n      <th>timestamp</th>\n      <th></th>\n    </tr>\n  </thead>\n  <tbody>\n  </tbody>\n</table>\n</div>"
     },
     "metadata": {},
     "execution_count": 183
    }
   ],
   "source": [
    "# calculate results for 5 minute intervals\n",
    "g5_total_rows = len(group5min)\n",
    "g5_misses = group5min[\"count\"].value_counts().get(0, 0) # get value for key 0, if it doesnt exist we return 0 which means no misses.\n",
    "g5_score = (g5_total_rows - g5_misses)/g5_total_rows\n",
    "# print(g5_score)\n",
    "group5min.loc[group5min[\"count\"] == 0]"
   ]
  },
  {
   "cell_type": "code",
   "execution_count": 184,
   "metadata": {
    "tags": []
   },
   "outputs": [
    {
     "output_type": "stream",
     "name": "stdout",
     "text": "Looking at data from 01 Oct 2020 16:09:24:098 onCreate MainActivity to 02 Oct 2020 11:04:01:014 (alarmreceiver): (1.3212542, 103.8603324)\n1 min intervals: 31.51% missing 778 intervals\n5 min intervals: 100.00% missing 0 intervals\n"
    }
   ],
   "source": [
    "print(\"Looking at data from\", data[0].iloc[0] , \"to\" , data[0].iloc[-1])\n",
    "print(\"1 min intervals:\", \"{0:.2%}\".format(g1_score) , \"missing\" , g1_misses , \"intervals\")\n",
    "print(\"5 min intervals:\", \"{0:.2%}\".format(g5_score) , \"missing\" , g5_misses , \"intervals\")"
   ]
  },
  {
   "cell_type": "code",
   "execution_count": null,
   "metadata": {},
   "outputs": [],
   "source": []
  }
 ],
 "metadata": {
  "kernelspec": {
   "display_name": "Python 3.7.6 64-bit",
   "language": "python",
   "name": "python37664bit2d477bd3c8524222ac6dda5bfbaedc31"
  },
  "language_info": {
   "codemirror_mode": {
    "name": "ipython",
    "version": 3
   },
   "file_extension": ".py",
   "mimetype": "text/x-python",
   "name": "python",
   "nbconvert_exporter": "python",
   "pygments_lexer": "ipython3",
   "version": "3.7.6-final"
  }
 },
 "nbformat": 4,
 "nbformat_minor": 2
}